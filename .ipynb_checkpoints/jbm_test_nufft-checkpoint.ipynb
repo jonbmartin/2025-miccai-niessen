{
 "cells": [
  {
   "cell_type": "code",
   "execution_count": 1,
   "id": "8aa8c2e2",
   "metadata": {},
   "outputs": [],
   "source": [
    "import torchkbnufft as tkbn\n",
    "import scipy.io as sio"
   ]
  },
  {
   "cell_type": "code",
   "execution_count": 2,
   "id": "c6d79ce5",
   "metadata": {},
   "outputs": [],
   "source": [
    "def inufft2c_torch(data, ktraj, sens, dim=(-2, -1)):\n",
    "    # JBM implemented\n",
    "    inufft_ob = tkbn.KbNufftAdjoint(im_size=dim)\n",
    "    image = inufft_ob(data, ktraj, smaps=sens, norm='ortho')\n",
    "    print('inufft Not tested')\n",
    "    return image\n",
    "    #return torch.fft.fftshift(torch.fft.ifft2(torch.fft.ifftshift(data, dim), dim=dim), dim=dim)\n",
    "\n",
    "def nufft2c_torch(data, ktraj, sens, dim=(-2, -1)):\n",
    "    # JBM implemented\n",
    "    nufft_ob = tkbn.KbNufft(im_size=dim)\n",
    "    kdata = nufft_ob(data, ktraj, smaps=sens, norm='ortho')\n",
    "    print('nufft Not tested')\n",
    "    return kdata\n",
    "    #return torch.fft.fftshift(torch.fft.ifft2(torch.fft.ifftshift(data, dim), dim=dim), dim=dim)"
   ]
  },
  {
   "cell_type": "code",
   "execution_count": 5,
   "id": "8fa9aec1",
   "metadata": {},
   "outputs": [],
   "source": [
    "rosdat = sio.loadmat('data/rosette_ferret_data_NOVD_7T.mat')"
   ]
  },
  {
   "cell_type": "code",
   "execution_count": 7,
   "id": "fccf487c",
   "metadata": {},
   "outputs": [],
   "source": [
    "kx = rosdat['kxI']\n",
    "ky = rosdat['kyI']\n",
    "t = rosdat['t']\n",
    "sigI = rosdat['sigI']"
   ]
  },
  {
   "cell_type": "code",
   "execution_count": null,
   "id": "27076c7d",
   "metadata": {},
   "outputs": [],
   "source": []
  }
 ],
 "metadata": {
  "kernelspec": {
   "display_name": "rl",
   "language": "python",
   "name": "rl"
  },
  "language_info": {
   "codemirror_mode": {
    "name": "ipython",
    "version": 3
   },
   "file_extension": ".py",
   "mimetype": "text/x-python",
   "name": "python",
   "nbconvert_exporter": "python",
   "pygments_lexer": "ipython3",
   "version": "3.8.10"
  }
 },
 "nbformat": 4,
 "nbformat_minor": 5
}
