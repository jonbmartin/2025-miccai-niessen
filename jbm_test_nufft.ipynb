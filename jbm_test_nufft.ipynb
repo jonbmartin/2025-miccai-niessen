{
 "cells": [
  {
   "cell_type": "code",
   "execution_count": 4,
   "id": "13beebe7",
   "metadata": {},
   "outputs": [],
   "source": [
    "import torchkbnufft as tkbn\n"
   ]
  },
  {
   "cell_type": "code",
   "execution_count": 5,
   "id": "e8661f4a",
   "metadata": {},
   "outputs": [],
   "source": [
    "def inufft2c_torch(data, ktraj, sens, dim=(-2, -1)):\n",
    "    # JBM implemented\n",
    "    inufft_ob = tkbn.KbNufftAdjoint(im_size=dim)\n",
    "    image = inufft_ob(data, ktraj, smaps=sens, norm='ortho')\n",
    "    print('inufft Not tested')\n",
    "    return image\n",
    "    #return torch.fft.fftshift(torch.fft.ifft2(torch.fft.ifftshift(data, dim), dim=dim), dim=dim)\n",
    "\n",
    "def nufft2c_torch(data, ktraj, sens, dim=(-2, -1)):\n",
    "    # JBM implemented\n",
    "    nufft_ob = tkbn.KbNufft(im_size=dim)\n",
    "    kdata = nufft_ob(data, ktraj, smaps=sens, norm='ortho')\n",
    "    print('nufft Not tested')\n",
    "    return kdata\n",
    "    #return torch.fft.fftshift(torch.fft.ifft2(torch.fft.ifftshift(data, dim), dim=dim), dim=dim)"
   ]
  },
  {
   "cell_type": "code",
   "execution_count": null,
   "id": "1d99ec39",
   "metadata": {},
   "outputs": [],
   "source": []
  }
 ],
 "metadata": {
  "kernelspec": {
   "display_name": "rl",
   "language": "python",
   "name": "rl"
  }
 },
 "nbformat": 4,
 "nbformat_minor": 5
}
